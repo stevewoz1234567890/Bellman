{
 "cells": [
  {
   "cell_type": "code",
   "execution_count": 1,
   "id": "f4ea01b0",
   "metadata": {},
   "outputs": [],
   "source": [
    "import numpy as np"
   ]
  },
  {
   "cell_type": "code",
   "execution_count": 14,
   "id": "c92e7912",
   "metadata": {},
   "outputs": [],
   "source": [
    "#Hyperparameters\n",
    "SMALL_ENOUGH = 0.005\n",
    "GAMMA = 0.9"
   ]
  },
  {
   "cell_type": "code",
   "execution_count": 16,
   "id": "61796b43",
   "metadata": {},
   "outputs": [],
   "source": [
    "#Define all states\n",
    "all_states=['Facebook', 'Class1', 'Class2', 'Class3', 'Pass', 'Pub', 'Sleep']\n",
    "\n",
    "#Define rewards for all states\n",
    "rewards = {}\n",
    "rewards['Facebook'] = -1\n",
    "rewards['Class1'] = -2\n",
    "rewards['Class2'] = -2\n",
    "rewards['Class3'] = -2\n",
    "rewards['Pass'] = 10\n",
    "rewards['Pub'] = 1\n",
    "rewards['Sleep'] = 0"
   ]
  },
  {
   "cell_type": "code",
   "execution_count": 29,
   "id": "0c1ad816",
   "metadata": {},
   "outputs": [],
   "source": [
    "#Dictionnary of possible actions\n",
    "actions = {\n",
    "    'Facebook':['Facebook', 'Class1'], \n",
    "    'Class1':['Facebook', 'Class2'],    \n",
    "    'Class2':['Class3', 'Sleep'],\n",
    "    'Class3':['Pass', 'Pub'],\n",
    "    'Pass':['Sleep'],\n",
    "    'Pub':['Class1', 'Class2', 'Class3'],\n",
    "    }"
   ]
  },
  {
   "cell_type": "code",
   "execution_count": 17,
   "id": "eca308f6",
   "metadata": {},
   "outputs": [],
   "source": [
    "#Define probability\n",
    "probabilities = {\n",
    "    ('Facebook', 'Facebook'): 0.9,\n",
    "    ('Facebook', 'Class1'): 0.1, \n",
    "    ('Class1', 'Facebook'): 0.5,\n",
    "    ('Class1', 'Class2'): 0.5,    \n",
    "    ('Class2', 'Class3'): 0.8, \n",
    "    ('Class2', 'Sleep'): 0.2,\n",
    "    ('Class3', 'Pass'): 0.6, \n",
    "    ('Class3', 'Pub'): 0.4,\n",
    "    ('Pass', 'Sleep'): 1.0,\n",
    "    ('Pub', 'Class1'): 0.2,\n",
    "    ('Pub', 'Class2'): 0.4,\n",
    "    ('Pub', 'Class3'): 0.4,\n",
    "    }"
   ]
  },
  {
   "cell_type": "code",
   "execution_count": 38,
   "id": "b82f5f1b",
   "metadata": {},
   "outputs": [],
   "source": [
    "#Define initial value function \n",
    "V={}\n",
    "for s in all_states:\n",
    "    if s == 'Sleep':\n",
    "        V[s]=1000\n",
    "    else:\n",
    "        V[s]=0"
   ]
  },
  {
   "cell_type": "code",
   "execution_count": 30,
   "id": "c13a7aff",
   "metadata": {},
   "outputs": [],
   "source": [
    "#Define an initial policy\n",
    "policy={}\n",
    "for s in actions.keys():\n",
    "    policy[s] = np.random.choice(range(len(actions[s])))\n",
    "    policy[s] = actions[s][policy[s]]"
   ]
  },
  {
   "cell_type": "code",
   "execution_count": 39,
   "id": "0fae65ea",
   "metadata": {},
   "outputs": [],
   "source": [
    "iteration = 0\n",
    "while True:\n",
    "    biggest_change = 0\n",
    "    for s in all_states:\n",
    "        if s in policy:\n",
    "            old_v = V[s]\n",
    "            new_v = 0\n",
    "\n",
    "            for a in actions[s]:\n",
    "                nxt = a\n",
    "\n",
    "                #Calculate the value\n",
    "                v = rewards[s] + GAMMA * V[nxt] * probabilities[(s, nxt)]\n",
    "                if v > new_v:\n",
    "                    new_v = v\n",
    "                    policy[s] = a\n",
    "\n",
    "           #Save the best of all actions for the state                                 \n",
    "            V[s] = new_v\n",
    "            biggest_change = max(biggest_change, np.abs(old_v - V[s]))\n",
    "         \n",
    "   #See if the loop should stop now         \n",
    "    if biggest_change < SMALL_ENOUGH:\n",
    "        break\n",
    "    iteration += 1"
   ]
  },
  {
   "cell_type": "code",
   "execution_count": 40,
   "id": "aad8b707",
   "metadata": {},
   "outputs": [
    {
     "data": {
      "text/plain": [
       "{'Facebook': 13.009904,\n",
       " 'Class1': 155.6656,\n",
       " 'Class2': 350.368,\n",
       " 'Class3': 489.4,\n",
       " 'Pass': 910.0,\n",
       " 'Pub': 177.184,\n",
       " 'Sleep': 1000}"
      ]
     },
     "execution_count": 40,
     "metadata": {},
     "output_type": "execute_result"
    }
   ],
   "source": [
    "V"
   ]
  },
  {
   "cell_type": "code",
   "execution_count": null,
   "id": "3afee823",
   "metadata": {},
   "outputs": [],
   "source": []
  },
  {
   "cell_type": "code",
   "execution_count": null,
   "id": "b6991f7f",
   "metadata": {},
   "outputs": [],
   "source": []
  },
  {
   "cell_type": "code",
   "execution_count": null,
   "id": "f6c8600a",
   "metadata": {},
   "outputs": [],
   "source": []
  },
  {
   "cell_type": "code",
   "execution_count": null,
   "id": "aa338268",
   "metadata": {},
   "outputs": [],
   "source": []
  },
  {
   "cell_type": "code",
   "execution_count": null,
   "id": "5faeaee9",
   "metadata": {},
   "outputs": [],
   "source": []
  }
 ],
 "metadata": {
  "kernelspec": {
   "display_name": "Python 3",
   "language": "python",
   "name": "python3"
  },
  "language_info": {
   "codemirror_mode": {
    "name": "ipython",
    "version": 3
   },
   "file_extension": ".py",
   "mimetype": "text/x-python",
   "name": "python",
   "nbconvert_exporter": "python",
   "pygments_lexer": "ipython3",
   "version": "3.8.8"
  }
 },
 "nbformat": 4,
 "nbformat_minor": 5
}
